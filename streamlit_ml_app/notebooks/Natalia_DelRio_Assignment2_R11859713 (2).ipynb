{
  "cells": [
    {
      "cell_type": "markdown",
      "metadata": {
        "id": "rVJUzOObTDGo"
      },
      "source": [
        "# **Assignment 2**\n",
        "\n",
        "---\n",
        "\n"
      ]
    },
    {
      "cell_type": "markdown",
      "metadata": {
        "id": "5tobS-56TuHI"
      },
      "source": [
        "# **Imported Libraries**\n",
        "\n",
        "---\n",
        "\n"
      ]
    },
    {
      "cell_type": "code",
      "execution_count": 1,
      "metadata": {
        "colab": {
          "base_uri": "https://localhost:8080/"
        },
        "collapsed": true,
        "id": "d72a1911",
        "outputId": "4d7522e9-73ac-4aa9-859f-36bc606d53f2"
      },
      "outputs": [
        {
          "output_type": "stream",
          "name": "stderr",
          "text": [
            "[nltk_data] Downloading package wordnet to /root/nltk_data...\n",
            "[nltk_data] Downloading package omw-1.4 to /root/nltk_data...\n",
            "[nltk_data] Downloading package punkt to /root/nltk_data...\n",
            "[nltk_data]   Unzipping tokenizers/punkt.zip.\n",
            "[nltk_data] Downloading package stopwords to /root/nltk_data...\n",
            "[nltk_data]   Unzipping corpora/stopwords.zip.\n",
            "[nltk_data] Downloading package averaged_perceptron_tagger to\n",
            "[nltk_data]     /root/nltk_data...\n",
            "[nltk_data]   Unzipping taggers/averaged_perceptron_tagger.zip.\n",
            "[nltk_data] Downloading package tagsets_json to /root/nltk_data...\n",
            "[nltk_data]   Unzipping help/tagsets_json.zip.\n"
          ]
        },
        {
          "output_type": "execute_result",
          "data": {
            "text/plain": [
              "True"
            ]
          },
          "metadata": {},
          "execution_count": 1
        }
      ],
      "source": [
        "import pandas as pd\n",
        "import numpy as np\n",
        "import matplotlib.pyplot as plt\n",
        "import seaborn as sns\n",
        "import re\n",
        "import joblib\n",
        "import string\n",
        "import math\n",
        "import time\n",
        "\n",
        "from sklearn.feature_extraction.text import TfidfVectorizer, CountVectorizer\n",
        "from sklearn.naive_bayes import MultinomialNB\n",
        "from sklearn.svm import SVC\n",
        "from sklearn.linear_model import LogisticRegression\n",
        "from sklearn.ensemble import RandomForestClassifier\n",
        "from sklearn.tree import DecisionTreeClassifier\n",
        "from sklearn.model_selection import train_test_split, GridSearchCV, cross_val_score, StratifiedKFold, cross_validate, validation_curve, learning_curve\n",
        "from sklearn.pipeline import Pipeline, FeatureUnion\n",
        "from sklearn.preprocessing import StandardScaler, FunctionTransformer\n",
        "from sklearn import metrics\n",
        "from sklearn.metrics import accuracy_score, precision_score, recall_score, f1_score, roc_auc_score, confusion_matrix\n",
        "from sklearn.base import BaseEstimator, TransformerMixin\n",
        "\n",
        "import nltk\n",
        "from nltk.corpus import stopwords, wordnet\n",
        "from nltk.stem import WordNetLemmatizer, PorterStemmer\n",
        "\n",
        "%matplotlib inline\n",
        "import matplotlib.pyplot as plt\n",
        "sns.set_style(\"whitegrid\")\n",
        "plt.style.use(\"fivethirtyeight\")\n",
        "\n",
        "nltk.download('wordnet')\n",
        "nltk.download('omw-1.4')\n",
        "nltk.download('punkt')\n",
        "nltk.download('stopwords')\n",
        "nltk.download('averaged_perceptron_tagger')\n",
        "nltk.download('tagsets_json')"
      ]
    },
    {
      "cell_type": "markdown",
      "metadata": {
        "id": "K_oOdzcOrWRA"
      },
      "source": [
        "# **Task 1 : Data Loading and Preprocessing Pipeline**\n",
        "\n",
        "---\n",
        "\n"
      ]
    },
    {
      "cell_type": "code",
      "execution_count": 2,
      "metadata": {
        "id": "b0Y-F7j-rjnB"
      },
      "outputs": [],
      "source": [
        "import pandas as pd\n",
        "df_train = pd.read_excel('AI_vs_huam_train_dataset.xlsx')\n",
        "df_test = pd.read_excel('AI_vs_huam_train_dataset.xlsx')"
      ]
    },
    {
      "cell_type": "code",
      "execution_count": 3,
      "metadata": {
        "colab": {
          "base_uri": "https://localhost:8080/",
          "height": 206
        },
        "id": "c4c6v_bKtDdd",
        "outputId": "617aed08-754b-4ca2-c7a0-a18a6367e67f"
      },
      "outputs": [
        {
          "output_type": "execute_result",
          "data": {
            "text/plain": [
              "                                               essay  label\n",
              "0  International sports events require the most w...      0\n",
              "1  Globalisation has become a significant aspect ...      0\n",
              "2  There is an ever-increasing number of bullying...      0\n",
              "3  It is commonly believed, that companies should...      0\n",
              "4  Despite knowing about the adverse effects of c...      0"
            ],
            "text/html": [
              "\n",
              "  <div id=\"df-088dcf86-6925-4165-9c84-f6f950eea509\" class=\"colab-df-container\">\n",
              "    <div>\n",
              "<style scoped>\n",
              "    .dataframe tbody tr th:only-of-type {\n",
              "        vertical-align: middle;\n",
              "    }\n",
              "\n",
              "    .dataframe tbody tr th {\n",
              "        vertical-align: top;\n",
              "    }\n",
              "\n",
              "    .dataframe thead th {\n",
              "        text-align: right;\n",
              "    }\n",
              "</style>\n",
              "<table border=\"1\" class=\"dataframe\">\n",
              "  <thead>\n",
              "    <tr style=\"text-align: right;\">\n",
              "      <th></th>\n",
              "      <th>essay</th>\n",
              "      <th>label</th>\n",
              "    </tr>\n",
              "  </thead>\n",
              "  <tbody>\n",
              "    <tr>\n",
              "      <th>0</th>\n",
              "      <td>International sports events require the most w...</td>\n",
              "      <td>0</td>\n",
              "    </tr>\n",
              "    <tr>\n",
              "      <th>1</th>\n",
              "      <td>Globalisation has become a significant aspect ...</td>\n",
              "      <td>0</td>\n",
              "    </tr>\n",
              "    <tr>\n",
              "      <th>2</th>\n",
              "      <td>There is an ever-increasing number of bullying...</td>\n",
              "      <td>0</td>\n",
              "    </tr>\n",
              "    <tr>\n",
              "      <th>3</th>\n",
              "      <td>It is commonly believed, that companies should...</td>\n",
              "      <td>0</td>\n",
              "    </tr>\n",
              "    <tr>\n",
              "      <th>4</th>\n",
              "      <td>Despite knowing about the adverse effects of c...</td>\n",
              "      <td>0</td>\n",
              "    </tr>\n",
              "  </tbody>\n",
              "</table>\n",
              "</div>\n",
              "    <div class=\"colab-df-buttons\">\n",
              "\n",
              "  <div class=\"colab-df-container\">\n",
              "    <button class=\"colab-df-convert\" onclick=\"convertToInteractive('df-088dcf86-6925-4165-9c84-f6f950eea509')\"\n",
              "            title=\"Convert this dataframe to an interactive table.\"\n",
              "            style=\"display:none;\">\n",
              "\n",
              "  <svg xmlns=\"http://www.w3.org/2000/svg\" height=\"24px\" viewBox=\"0 -960 960 960\">\n",
              "    <path d=\"M120-120v-720h720v720H120Zm60-500h600v-160H180v160Zm220 220h160v-160H400v160Zm0 220h160v-160H400v160ZM180-400h160v-160H180v160Zm440 0h160v-160H620v160ZM180-180h160v-160H180v160Zm440 0h160v-160H620v160Z\"/>\n",
              "  </svg>\n",
              "    </button>\n",
              "\n",
              "  <style>\n",
              "    .colab-df-container {\n",
              "      display:flex;\n",
              "      gap: 12px;\n",
              "    }\n",
              "\n",
              "    .colab-df-convert {\n",
              "      background-color: #E8F0FE;\n",
              "      border: none;\n",
              "      border-radius: 50%;\n",
              "      cursor: pointer;\n",
              "      display: none;\n",
              "      fill: #1967D2;\n",
              "      height: 32px;\n",
              "      padding: 0 0 0 0;\n",
              "      width: 32px;\n",
              "    }\n",
              "\n",
              "    .colab-df-convert:hover {\n",
              "      background-color: #E2EBFA;\n",
              "      box-shadow: 0px 1px 2px rgba(60, 64, 67, 0.3), 0px 1px 3px 1px rgba(60, 64, 67, 0.15);\n",
              "      fill: #174EA6;\n",
              "    }\n",
              "\n",
              "    .colab-df-buttons div {\n",
              "      margin-bottom: 4px;\n",
              "    }\n",
              "\n",
              "    [theme=dark] .colab-df-convert {\n",
              "      background-color: #3B4455;\n",
              "      fill: #D2E3FC;\n",
              "    }\n",
              "\n",
              "    [theme=dark] .colab-df-convert:hover {\n",
              "      background-color: #434B5C;\n",
              "      box-shadow: 0px 1px 3px 1px rgba(0, 0, 0, 0.15);\n",
              "      filter: drop-shadow(0px 1px 2px rgba(0, 0, 0, 0.3));\n",
              "      fill: #FFFFFF;\n",
              "    }\n",
              "  </style>\n",
              "\n",
              "    <script>\n",
              "      const buttonEl =\n",
              "        document.querySelector('#df-088dcf86-6925-4165-9c84-f6f950eea509 button.colab-df-convert');\n",
              "      buttonEl.style.display =\n",
              "        google.colab.kernel.accessAllowed ? 'block' : 'none';\n",
              "\n",
              "      async function convertToInteractive(key) {\n",
              "        const element = document.querySelector('#df-088dcf86-6925-4165-9c84-f6f950eea509');\n",
              "        const dataTable =\n",
              "          await google.colab.kernel.invokeFunction('convertToInteractive',\n",
              "                                                    [key], {});\n",
              "        if (!dataTable) return;\n",
              "\n",
              "        const docLinkHtml = 'Like what you see? Visit the ' +\n",
              "          '<a target=\"_blank\" href=https://colab.research.google.com/notebooks/data_table.ipynb>data table notebook</a>'\n",
              "          + ' to learn more about interactive tables.';\n",
              "        element.innerHTML = '';\n",
              "        dataTable['output_type'] = 'display_data';\n",
              "        await google.colab.output.renderOutput(dataTable, element);\n",
              "        const docLink = document.createElement('div');\n",
              "        docLink.innerHTML = docLinkHtml;\n",
              "        element.appendChild(docLink);\n",
              "      }\n",
              "    </script>\n",
              "  </div>\n",
              "\n",
              "\n",
              "    <div id=\"df-4723d345-a7b6-4c5f-b529-d993392dcb5b\">\n",
              "      <button class=\"colab-df-quickchart\" onclick=\"quickchart('df-4723d345-a7b6-4c5f-b529-d993392dcb5b')\"\n",
              "                title=\"Suggest charts\"\n",
              "                style=\"display:none;\">\n",
              "\n",
              "<svg xmlns=\"http://www.w3.org/2000/svg\" height=\"24px\"viewBox=\"0 0 24 24\"\n",
              "     width=\"24px\">\n",
              "    <g>\n",
              "        <path d=\"M19 3H5c-1.1 0-2 .9-2 2v14c0 1.1.9 2 2 2h14c1.1 0 2-.9 2-2V5c0-1.1-.9-2-2-2zM9 17H7v-7h2v7zm4 0h-2V7h2v10zm4 0h-2v-4h2v4z\"/>\n",
              "    </g>\n",
              "</svg>\n",
              "      </button>\n",
              "\n",
              "<style>\n",
              "  .colab-df-quickchart {\n",
              "      --bg-color: #E8F0FE;\n",
              "      --fill-color: #1967D2;\n",
              "      --hover-bg-color: #E2EBFA;\n",
              "      --hover-fill-color: #174EA6;\n",
              "      --disabled-fill-color: #AAA;\n",
              "      --disabled-bg-color: #DDD;\n",
              "  }\n",
              "\n",
              "  [theme=dark] .colab-df-quickchart {\n",
              "      --bg-color: #3B4455;\n",
              "      --fill-color: #D2E3FC;\n",
              "      --hover-bg-color: #434B5C;\n",
              "      --hover-fill-color: #FFFFFF;\n",
              "      --disabled-bg-color: #3B4455;\n",
              "      --disabled-fill-color: #666;\n",
              "  }\n",
              "\n",
              "  .colab-df-quickchart {\n",
              "    background-color: var(--bg-color);\n",
              "    border: none;\n",
              "    border-radius: 50%;\n",
              "    cursor: pointer;\n",
              "    display: none;\n",
              "    fill: var(--fill-color);\n",
              "    height: 32px;\n",
              "    padding: 0;\n",
              "    width: 32px;\n",
              "  }\n",
              "\n",
              "  .colab-df-quickchart:hover {\n",
              "    background-color: var(--hover-bg-color);\n",
              "    box-shadow: 0 1px 2px rgba(60, 64, 67, 0.3), 0 1px 3px 1px rgba(60, 64, 67, 0.15);\n",
              "    fill: var(--button-hover-fill-color);\n",
              "  }\n",
              "\n",
              "  .colab-df-quickchart-complete:disabled,\n",
              "  .colab-df-quickchart-complete:disabled:hover {\n",
              "    background-color: var(--disabled-bg-color);\n",
              "    fill: var(--disabled-fill-color);\n",
              "    box-shadow: none;\n",
              "  }\n",
              "\n",
              "  .colab-df-spinner {\n",
              "    border: 2px solid var(--fill-color);\n",
              "    border-color: transparent;\n",
              "    border-bottom-color: var(--fill-color);\n",
              "    animation:\n",
              "      spin 1s steps(1) infinite;\n",
              "  }\n",
              "\n",
              "  @keyframes spin {\n",
              "    0% {\n",
              "      border-color: transparent;\n",
              "      border-bottom-color: var(--fill-color);\n",
              "      border-left-color: var(--fill-color);\n",
              "    }\n",
              "    20% {\n",
              "      border-color: transparent;\n",
              "      border-left-color: var(--fill-color);\n",
              "      border-top-color: var(--fill-color);\n",
              "    }\n",
              "    30% {\n",
              "      border-color: transparent;\n",
              "      border-left-color: var(--fill-color);\n",
              "      border-top-color: var(--fill-color);\n",
              "      border-right-color: var(--fill-color);\n",
              "    }\n",
              "    40% {\n",
              "      border-color: transparent;\n",
              "      border-right-color: var(--fill-color);\n",
              "      border-top-color: var(--fill-color);\n",
              "    }\n",
              "    60% {\n",
              "      border-color: transparent;\n",
              "      border-right-color: var(--fill-color);\n",
              "    }\n",
              "    80% {\n",
              "      border-color: transparent;\n",
              "      border-right-color: var(--fill-color);\n",
              "      border-bottom-color: var(--fill-color);\n",
              "    }\n",
              "    90% {\n",
              "      border-color: transparent;\n",
              "      border-bottom-color: var(--fill-color);\n",
              "    }\n",
              "  }\n",
              "</style>\n",
              "\n",
              "      <script>\n",
              "        async function quickchart(key) {\n",
              "          const quickchartButtonEl =\n",
              "            document.querySelector('#' + key + ' button');\n",
              "          quickchartButtonEl.disabled = true;  // To prevent multiple clicks.\n",
              "          quickchartButtonEl.classList.add('colab-df-spinner');\n",
              "          try {\n",
              "            const charts = await google.colab.kernel.invokeFunction(\n",
              "                'suggestCharts', [key], {});\n",
              "          } catch (error) {\n",
              "            console.error('Error during call to suggestCharts:', error);\n",
              "          }\n",
              "          quickchartButtonEl.classList.remove('colab-df-spinner');\n",
              "          quickchartButtonEl.classList.add('colab-df-quickchart-complete');\n",
              "        }\n",
              "        (() => {\n",
              "          let quickchartButtonEl =\n",
              "            document.querySelector('#df-4723d345-a7b6-4c5f-b529-d993392dcb5b button');\n",
              "          quickchartButtonEl.style.display =\n",
              "            google.colab.kernel.accessAllowed ? 'block' : 'none';\n",
              "        })();\n",
              "      </script>\n",
              "    </div>\n",
              "\n",
              "    </div>\n",
              "  </div>\n"
            ],
            "application/vnd.google.colaboratory.intrinsic+json": {
              "type": "dataframe",
              "variable_name": "df_train",
              "summary": "{\n  \"name\": \"df_train\",\n  \"rows\": 3728,\n  \"fields\": [\n    {\n      \"column\": \"essay\",\n      \"properties\": {\n        \"dtype\": \"string\",\n        \"num_unique_values\": 3728,\n        \"samples\": [\n          \"I completely agree with this statement. People achieve success when they try different jobs and excel in them. However, exploring new jobs always comes with risks. Therefore, taking on different and sometimes risky jobs is essential for anyone aiming to succeed.\\n\\nEveryone should try various jobs to discover where their true talents and interests lie. If we keep doing the same thing over and over, we stop growing, lose interest, and eventually become bored. At that point, we have no sense of direction and can\\u201a\\u00c4\\u00f4t move forward.\\n\\nBy trying new things, we are more likely to eventually find our true path and develop ourselves in that area. Many scientists have created the inventions we rely on today by experimenting in different fields. In my view, without experimenting and taking risks, a person cannot reach their full potential. Of course, not experimenting doesn\\u201a\\u00c4\\u00f4t mean someone will fail, but it does limit their possibilities.\\n\\nEnjoying life also means taking on new challenges. In fact, life\\u201a\\u00c4\\u00f4s natural course is to face new tasks each day, and this is key to achieving success.\\n\\nWe see in everyday life that many people in various fields are constantly trying new things. For example, actors take on diverse roles to show their versatility, businesspeople launch new products and marketing strategies, and software engineers develop new programs and technologies.\\n\\nTrying different jobs may lead to failure at times, but that shouldn\\u201a\\u00c4\\u00f4t stop anyone from experimenting. Instead, they should learn from setbacks and keep moving forward, as the saying goes: \\u201a\\u00c4\\u00faFailures are stepping stones to success.\\u201a\\u00c4\\u00f9 Failure teaches us valuable lessons about what works and what doesn\\u201a\\u00c4\\u00f4t, helping us improve over time.\\n\\nIn conclusion, I believe everyone should embrace new challenges and try different tasks\\u201a\\u00c4\\u00eenot just to achieve success, but also to enjoy life from different perspectives.\",\n          \"I believe that people should always try new things and take risks to grow as individuals. If we hold ourselves back when faced with challenges, we\\u201a\\u00c4\\u00f4ll never improve. To be successful, it\\u201a\\u00c4\\u00f4s not enough to stick to what we already know; especially in tough situations, we need to take risks, even if they might lead to mistakes.\\n\\nWithout taking risks, we can\\u201a\\u00c4\\u00f4t achieve significant results in any field. For instance, if I want to become a top manager in the business world, I\\u201a\\u00c4\\u00f4ll have to make many risky decisions. This shows that people with big ambitions shouldn\\u201a\\u00c4\\u00f4t limit themselves to what they\\u201a\\u00c4\\u00f4re already comfortable with\\u201a\\u00c4\\u00eethey should always look for ways to improve.\\n\\nIn conclusion, no one becomes important by playing it safe. To be successful, people need courage and must be willing to make tough choices in order to keep growing.\",\n          \"In my view, there are both pros and cons to trying new things and taking risks. Some people may be hesitant to change the methods of a successful company, while others are more open to it. I used to be someone who avoided taking risks, but my perspective has changed recently. I now believe that achieving success in life often requires stepping out of your comfort zone and embracing new experiences. \\n\\nTake a football player, for example. If he always plays it safe and only reacts without making mistakes, he won\\u201a\\u00c4\\u00f4t improve or reach a professional level. To truly grow, a player must be willing to take risks\\u201a\\u00c4\\u00eelike leaving a team he\\u201a\\u00c4\\u00f4s been with for five years to join a better, more successful team, even if he doesn\\u201a\\u00c4\\u00f4t know the new teammates, coach, or environment.\\n\\nOf course, taking risks and trying new things can also have downsides. There is always a chance things won\\u201a\\u00c4\\u00f4t work out and you might lose something. However, if you never make mistakes, you won\\u201a\\u00c4\\u00f4t learn from your choices or experiences.\\n\\nOn the other hand, there are fields where risk-taking is not advisable, such as Formula One racing. Drivers in this sport cannot afford to take unnecessary risks because even a small mistake can be fatal. For them, success means driving fast but, above all, driving safely.\\n\\nIn conclusion, regarding the statement \\\"Successful people try new things and take risks rather than only doing what they already know how to do well,\\\" I think that being successful often involves taking risks. However, there are situations and professions where it\\u201a\\u00c4\\u00f4s best to stick to what you\\u201a\\u00c4\\u00f4ve learned and mastered.\"\n        ],\n        \"semantic_type\": \"\",\n        \"description\": \"\"\n      }\n    },\n    {\n      \"column\": \"label\",\n      \"properties\": {\n        \"dtype\": \"number\",\n        \"std\": 0,\n        \"min\": 0,\n        \"max\": 1,\n        \"num_unique_values\": 2,\n        \"samples\": [\n          1,\n          0\n        ],\n        \"semantic_type\": \"\",\n        \"description\": \"\"\n      }\n    }\n  ]\n}"
            }
          },
          "metadata": {},
          "execution_count": 3
        }
      ],
      "source": [
        "df_train.head()"
      ]
    },
    {
      "cell_type": "code",
      "execution_count": 4,
      "metadata": {
        "id": "kJOpktxhtSxW"
      },
      "outputs": [],
      "source": [
        "import string\n",
        "from nltk.corpus import stopwords\n",
        "from nltk.stem import WordNetLemmatizer\n",
        "import re\n",
        "\n",
        "def text_process(essay):\n",
        "    \"\"\"\n",
        "    Cleans and processes an essay string.\n",
        "\n",
        "    This function takes a raw essay string and performs several text cleaning steps:\n",
        "    1. Checks if the input is a string; returns an empty string otherwise.\n",
        "    2. Defines a list of common English stopwords and additional custom words to remove.\n",
        "    3. Removes all punctuation from the essay.\n",
        "    4. Removes pure numerical values and mixed alphanumeric tokens.\n",
        "    5. Removes URLs and emails.\n",
        "    6. Removes the defined stopwords from the essay.\n",
        "    7. Applies lemmatization to normalize words.\n",
        "    8. Joins the remaining words back into a single cleaned string.\n",
        "\n",
        "    Args:\n",
        "        essay (str): The input essay string to be processed.\n",
        "\n",
        "    Returns:\n",
        "        str: The cleaned essay string with punctuation and stopwords removed,\n",
        "             or an empty string if the input was not a string.\n",
        "    \"\"\"\n",
        "\n",
        "    if not isinstance(essay, str):\n",
        "        return \"\"\n",
        "\n",
        "    STOPWORDS = stopwords.words('english') + ['u', 'ü', 'ur', '4', '2', 'im', 'dont', 'doin', 'ure']\n",
        "    lemmatizer = WordNetLemmatizer()\n",
        "\n",
        "    nopunc = ''.join([char for char in essay if char not in string.punctuation])\n",
        "\n",
        "\n",
        "    cleaned_text = re.sub(r'\\S*\\d\\S*', '', nopunc)\n",
        "    cleaned_text = re.sub(r'http\\S+|www.\\S+', '', cleaned_text)\n",
        "    cleaned_text = re.sub(r'\\S*@\\S*\\s?', '', cleaned_text)\n",
        "\n",
        "    return ' '.join([lemmatizer.lemmatize(word.lower()) for word in cleaned_text.split() if word.lower() not in STOPWORDS])"
      ]
    },
    {
      "cell_type": "code",
      "execution_count": 5,
      "metadata": {
        "id": "7uroetDNxQPO"
      },
      "outputs": [],
      "source": [
        "df_train['clean_essays'] = df_train['essay'].apply(text_process)\n",
        "df_test['clean_essays'] = df_test['essay'].apply(text_process)\n",
        "\n",
        "binary_mapping = {0: 0, 1: 1}\n",
        "\n",
        "df_train['label_num'] = df_train['label'].map(binary_mapping)\n",
        "df_test['label_num'] = df_test['label'].map(binary_mapping)"
      ]
    },
    {
      "cell_type": "code",
      "execution_count": 6,
      "metadata": {
        "id": "WfHFSNbCza59"
      },
      "outputs": [],
      "source": [
        "train_vocab = set(\" \".join(df_train['clean_essays']).split())\n",
        "test_vocab = set(\" \".join(df_test['clean_essays']).split())"
      ]
    },
    {
      "cell_type": "code",
      "execution_count": 7,
      "metadata": {
        "id": "TTFfoOiOzyGy"
      },
      "outputs": [],
      "source": [
        "X = df_train['clean_essays']\n",
        "y = df_train['label']\n",
        "\n"
      ]
    },
    {
      "cell_type": "code",
      "execution_count": 8,
      "metadata": {
        "colab": {
          "base_uri": "https://localhost:8080/"
        },
        "id": "rsS3CUBh0D8g",
        "outputId": "18c1f780-ddcd-411e-a3b8-897df8dce45a"
      },
      "outputs": [
        {
          "output_type": "stream",
          "name": "stdout",
          "text": [
            "Sample train words : ['aa', 'aaaas', 'aalready', 'abandon', 'abandond', 'abandoned', 'abandoning', 'abandonned', 'abati', 'abati‚äôs', 'abbbandon', 'abbility', 'abbreviated', 'abbreviation', 'abceventhough', 'abd', 'abdicate', 'abdul', 'abdulazez', 'abdulaziz'] ...\n",
            "\n"
          ]
        }
      ],
      "source": [
        "print(\"Sample train words :\", sorted(list(train_vocab))[:20], \"...\\n\")"
      ]
    },
    {
      "cell_type": "code",
      "execution_count": 9,
      "metadata": {
        "id": "o1PLk8LP0Ir4"
      },
      "outputs": [],
      "source": [
        "X_train, X_val, y_train, y_val = train_test_split(X, y, test_size=0.2, random_state=42, stratify=y)"
      ]
    },
    {
      "cell_type": "markdown",
      "metadata": {
        "id": "7HpN9ihU0axu"
      },
      "source": [
        "# **Task 2 : Feature Extraction with Pipeline Integration**\n",
        "\n",
        "---\n",
        "\n"
      ]
    },
    {
      "cell_type": "code",
      "execution_count": 10,
      "metadata": {
        "colab": {
          "base_uri": "https://localhost:8080/"
        },
        "id": "3hhrwByz0lf-",
        "outputId": "5e3c2eba-f91e-4962-ad33-a478d59abc96"
      },
      "outputs": [
        {
          "output_type": "stream",
          "name": "stdout",
          "text": [
            "TF-IDF matrix shape: (2982, 5000)\n",
            "n-gram_1: Shape (2982, 1000)\n",
            "n-gram_2: Shape (2982, 2000)\n",
            "n-gram_3: Shape (2982, 3000)\n"
          ]
        }
      ],
      "source": [
        "vectorizer = TfidfVectorizer(\n",
        "    max_features=5000,\n",
        "    ngram_range=(1, 2),\n",
        "    min_df=2,\n",
        "    max_df=0.95,\n",
        "    lowercase=False\n",
        ")\n",
        "\n",
        "X_train_tfidf = vectorizer.fit_transform(X_train)\n",
        "print(f\"TF-IDF matrix shape: {X_train_tfidf.shape}\")\n",
        "\n",
        "configs = {\n",
        "    'n-gram_1': {'max_features': 1000, 'ngram_range': (1, 1)},\n",
        "    'n-gram_2': {'max_features': 2000, 'ngram_range': (1, 2)},\n",
        "    'n-gram_3': {'max_features': 3000, 'ngram_range': (1, 3)}\n",
        "}\n",
        "\n",
        "for name, config in configs.items():\n",
        "    test_vec = TfidfVectorizer(lowercase=False, **config)\n",
        "    test_matrix = test_vec.fit_transform(X_train)\n",
        "    print(f\"{name}: Shape {test_matrix.shape}\")\n"
      ]
    },
    {
      "cell_type": "markdown",
      "metadata": {
        "id": "ClKQoojs1p_H"
      },
      "source": [
        "# **Task 3 : Advanced Model Development with GridSearchCV**\n",
        "\n",
        "---\n",
        "\n"
      ]
    },
    {
      "cell_type": "code",
      "execution_count": 11,
      "metadata": {
        "id": "mvZ8BOEn12Be"
      },
      "outputs": [],
      "source": [
        "svm_param_grid = {\n",
        "    'vectorizer__max_features': [1000],\n",
        "    'vectorizer__ngram_range': [(1,1), (1,2)],\n",
        "    'classifier__C': [1, 10],\n",
        "    'classifier__kernel': ['linear'],\n",
        "    'classifier__gamma': ['scale']\n",
        "}"
      ]
    },
    {
      "cell_type": "code",
      "execution_count": 12,
      "metadata": {
        "id": "HkL8ZxVL6d-P"
      },
      "outputs": [],
      "source": [
        "svm_pipeline = Pipeline([\n",
        "    ('vectorizer', TfidfVectorizer(lowercase=False)),\n",
        "    ('classifier', SVC(random_state=42, probability=True))\n",
        "])"
      ]
    },
    {
      "cell_type": "code",
      "execution_count": 13,
      "metadata": {
        "id": "wtfRTA-k7AMu"
      },
      "outputs": [],
      "source": [
        "svm_grid_search = GridSearchCV(\n",
        "    estimator=svm_pipeline,\n",
        "    param_grid=svm_param_grid,\n",
        "    cv=5,\n",
        "    scoring='accuracy',\n",
        "    n_jobs=-1,\n",
        "    verbose=1\n",
        ")"
      ]
    },
    {
      "cell_type": "code",
      "execution_count": 14,
      "metadata": {
        "colab": {
          "base_uri": "https://localhost:8080/"
        },
        "id": "dRXBm_QX7FvV",
        "outputId": "e4c5a664-d2e8-4851-fb24-7fc501ec7547",
        "collapsed": true
      },
      "outputs": [
        {
          "output_type": "stream",
          "name": "stdout",
          "text": [
            "Fitting 5 folds for each of 4 candidates, totalling 20 fits\n",
            "SVM Best parameters: {'classifier__C': 1, 'classifier__gamma': 'scale', 'classifier__kernel': 'linear', 'vectorizer__max_features': 1000, 'vectorizer__ngram_range': (1, 1)}\n",
            "SVM Best CV score: 0.9745\n",
            "SVM Validation accuracy: 0.9745\n"
          ]
        }
      ],
      "source": [
        "svm_grid_search.fit(X_train, y_train)\n",
        "print(f\"SVM Best parameters: {svm_grid_search.best_params_}\")\n",
        "print(f\"SVM Best CV score: {svm_grid_search.best_score_:.4f}\")\n",
        "\n",
        "svm_val_score = svm_grid_search.score(X_val, y_val)\n",
        "print(f\"SVM Validation accuracy: {svm_val_score:.4f}\")"
      ]
    },
    {
      "cell_type": "code",
      "execution_count": 15,
      "metadata": {
        "id": "bfom9s_g2_dR"
      },
      "outputs": [],
      "source": [
        "dt_param_grid = {\n",
        "    'vectorizer__max_features': [1000],\n",
        "    'vectorizer__ngram_range': [(1,1), (1,2)],\n",
        "    'classifier__criterion': ['gini'],\n",
        "    'classifier__max_depth': [10, None],\n",
        "    'classifier__min_samples_split': [2],\n",
        "    'classifier__min_samples_leaf': [1]\n",
        "}\n"
      ]
    },
    {
      "cell_type": "code",
      "execution_count": 16,
      "metadata": {
        "id": "IL9ryVkT7QJV"
      },
      "outputs": [],
      "source": [
        "dt_pipeline = Pipeline([\n",
        "    ('vectorizer', TfidfVectorizer(lowercase=False)),\n",
        "    ('classifier', DecisionTreeClassifier(random_state=42))\n",
        "])"
      ]
    },
    {
      "cell_type": "code",
      "execution_count": 17,
      "metadata": {
        "id": "ABk9T_yL7RZB"
      },
      "outputs": [],
      "source": [
        "dt_grid_search = GridSearchCV(\n",
        "    estimator=dt_pipeline,\n",
        "    param_grid=dt_param_grid,\n",
        "    cv=5,\n",
        "    scoring='accuracy',\n",
        "    n_jobs=-1,\n",
        "    verbose=1\n",
        ")"
      ]
    },
    {
      "cell_type": "code",
      "execution_count": 18,
      "metadata": {
        "id": "pr-LdHFq7bK9",
        "colab": {
          "base_uri": "https://localhost:8080/"
        },
        "outputId": "aa0da7c4-9b0c-4d0d-c039-7076f4857512"
      },
      "outputs": [
        {
          "output_type": "stream",
          "name": "stdout",
          "text": [
            "Fitting 5 folds for each of 4 candidates, totalling 20 fits\n",
            "DT Best parameters: {'classifier__criterion': 'gini', 'classifier__max_depth': 10, 'classifier__min_samples_leaf': 1, 'classifier__min_samples_split': 2, 'vectorizer__max_features': 1000, 'vectorizer__ngram_range': (1, 2)}\n",
            "DT Best CV score: 0.9222\n",
            "DT Validation accuracy: 0.9062\n"
          ]
        }
      ],
      "source": [
        "dt_grid_search.fit(X_train, y_train)\n",
        "print(f\"DT Best parameters: {dt_grid_search.best_params_}\")\n",
        "print(f\"DT Best CV score: {dt_grid_search.best_score_:.4f}\")\n",
        "\n",
        "dt_val_score = dt_grid_search.score(X_val, y_val)\n",
        "print(f\"DT Validation accuracy: {dt_val_score:.4f}\")"
      ]
    },
    {
      "cell_type": "markdown",
      "metadata": {
        "id": "aEAVD7Bb7t2c"
      },
      "source": [
        "# **Task 4 : Cross-Validation Implementation**\n",
        "\n",
        "---\n",
        "\n",
        "\n",
        "\n"
      ]
    },
    {
      "cell_type": "code",
      "execution_count": 19,
      "metadata": {
        "id": "_C8KcCgh75ZU",
        "colab": {
          "base_uri": "https://localhost:8080/"
        },
        "outputId": "008c3e21-69d8-4091-b04c-a9c5e3bbb35f"
      },
      "outputs": [
        {
          "output_type": "stream",
          "name": "stdout",
          "text": [
            "\n",
            "SVM (Optimized) CV Scores: [0.97822446 0.98157454 0.98154362 0.97483221 0.95637584]\n",
            "Mean: 0.9745 (+/- 0.0188)\n",
            "\n",
            "Decision Tree (Optimized) CV Scores: [0.92629816 0.92629816 0.91778523 0.91778523 0.92281879]\n",
            "Mean: 0.9222 (+/- 0.0076)\n",
            "\n",
            "SVM (Optimized) Stratified CV: 0.9765\n",
            "Regular vs Stratified difference: 0.0020\n",
            "\n",
            "Decision Tree (Optimized) Stratified CV: 0.9101\n",
            "Regular vs Stratified difference: 0.0121\n"
          ]
        }
      ],
      "source": [
        "best_svm = svm_grid_search.best_estimator_\n",
        "best_dt = dt_grid_search.best_estimator_\n",
        "\n",
        "models = {\n",
        "    'SVM (Optimized)': best_svm,\n",
        "    'Decision Tree (Optimized)': best_dt\n",
        "}\n",
        "\n",
        "cv_results = {}\n",
        "for name, model in models.items():\n",
        "    cv_scores = cross_val_score(model, X_train, y_train, cv=5, scoring='accuracy')\n",
        "    cv_results[name] = cv_scores\n",
        "    print(f\"\\n{name} CV Scores: {cv_scores}\")\n",
        "    print(f\"Mean: {cv_scores.mean():.4f} (+/- {cv_scores.std() * 2:.4f})\")\n",
        "\n",
        "skf = StratifiedKFold(n_splits=5, shuffle=True, random_state=42)\n",
        "\n",
        "stratified_results = {}\n",
        "for name, model in models.items():\n",
        "    stratified_scores = cross_val_score(model, X_train, y_train, cv=skf, scoring='accuracy')\n",
        "    stratified_results[name] = stratified_scores\n",
        "\n",
        "    regular_mean = cv_results[name].mean()\n",
        "    stratified_mean = stratified_scores.mean()\n",
        "    print(f\"\\n{name} Stratified CV: {stratified_mean:.4f}\")\n",
        "    print(f\"Regular vs Stratified difference: {abs(stratified_mean - regular_mean):.4f}\")"
      ]
    },
    {
      "cell_type": "markdown",
      "metadata": {
        "id": "dDQNENiX8bEt"
      },
      "source": [
        "# **Task 5 : ML Pipeline Implementation**\n",
        "\n",
        "---\n",
        "\n"
      ]
    },
    {
      "cell_type": "code",
      "execution_count": 20,
      "metadata": {
        "id": "ausf9tPs8isN",
        "colab": {
          "base_uri": "https://localhost:8080/"
        },
        "outputId": "7030354e-6bac-4de9-9c0b-2a56035d582e"
      },
      "outputs": [
        {
          "output_type": "stream",
          "name": "stdout",
          "text": [
            "SVM Pipeline - Basic: 0.9491, Optimized: 0.9745\n",
            "DT Pipeline - Basic: 0.9196, Optimized: 0.9062\n"
          ]
        }
      ],
      "source": [
        "svm_pipeline = Pipeline([('vectorizer', TfidfVectorizer()), ('classifier', SVC())])\n",
        "\n",
        "dt_pipeline = Pipeline([('vectorizer', TfidfVectorizer()), ('classifier', DecisionTreeClassifier())])\n",
        "\n",
        "svm_pipeline.fit(X_train, y_train)\n",
        "dt_pipeline.fit(X_train, y_train)\n",
        "\n",
        "svm_basic_score = svm_pipeline.score(X_val, y_val)\n",
        "dt_basic_score = dt_pipeline.score(X_val, y_val)\n",
        "\n",
        "print(f\"SVM Pipeline - Basic: {svm_basic_score:.4f}, Optimized: {svm_val_score:.4f}\")\n",
        "print(f\"DT Pipeline - Basic: {dt_basic_score:.4f}, Optimized: {dt_val_score:.4f}\")"
      ]
    },
    {
      "cell_type": "markdown",
      "metadata": {
        "id": "mrt5eiaa8nvI"
      },
      "source": [
        "# **Task 6 : Models Evaluation and Analysis**\n",
        "\n",
        "---\n",
        "\n"
      ]
    },
    {
      "cell_type": "code",
      "execution_count": 21,
      "metadata": {
        "id": "o2iXVo_982JG",
        "colab": {
          "base_uri": "https://localhost:8080/",
          "height": 781
        },
        "outputId": "d783825c-8507-4d45-b1b8-1c6c0c38f6d0"
      },
      "outputs": [
        {
          "output_type": "stream",
          "name": "stdout",
          "text": [
            "\n",
            "SVM Performance:\n",
            "Accuracy: 0.9745\n",
            "Precision (macro): 0.9746\n",
            "Recall (macro): 0.9745\n",
            "F1-score (macro): 0.9745\n",
            "F1-score (weighted): 0.9745\n",
            "ROC-AUC: 0.9977\n",
            "Confusion Matrix:\n",
            "[[366   7]\n",
            " [ 12 361]]\n",
            "\n",
            "Decision Tree Performance:\n",
            "Accuracy: 0.9062\n",
            "Precision (macro): 0.9062\n",
            "Recall (macro): 0.9062\n",
            "F1-score (macro): 0.9062\n",
            "F1-score (weighted): 0.9062\n",
            "ROC-AUC: 0.9010\n",
            "Confusion Matrix:\n",
            "[[336  37]\n",
            " [ 33 340]]\n",
            "\n",
            "Model Comparison:\n",
            "           Model  Accuracy  Precision  Recall  F1-Score\n",
            "0            SVM    0.9745     0.9746  0.9745    0.9745\n",
            "1  Decision Tree    0.9062     0.9062  0.9062    0.9062\n",
            "Best performing model: SVM\n",
            "\n",
            "Decision Tree Feature Importance (Top 10):\n",
            " 1. äôs            : 0.5097\n",
            " 2. äôt            : 0.1109\n",
            " 3. additionally   : 0.0761\n",
            " 4. often          : 0.0474\n",
            " 5. believe        : 0.0204\n",
            " 6. sticking       : 0.0153\n",
            " 7. risk           : 0.0130\n",
            " 8. order          : 0.0124\n",
            " 9. ultimately     : 0.0083\n",
            "10. it äôs         : 0.0077\n",
            "\n",
            "Error Analysis:\n",
            "Total misclassified: 19\n",
            "Error rate: 0.0255\n"
          ]
        },
        {
          "output_type": "display_data",
          "data": {
            "text/plain": [
              "<IPython.core.display.Javascript object>"
            ],
            "application/javascript": [
              "\n",
              "    async function download(id, filename, size) {\n",
              "      if (!google.colab.kernel.accessAllowed) {\n",
              "        return;\n",
              "      }\n",
              "      const div = document.createElement('div');\n",
              "      const label = document.createElement('label');\n",
              "      label.textContent = `Downloading \"${filename}\": `;\n",
              "      div.appendChild(label);\n",
              "      const progress = document.createElement('progress');\n",
              "      progress.max = size;\n",
              "      div.appendChild(progress);\n",
              "      document.body.appendChild(div);\n",
              "\n",
              "      const buffers = [];\n",
              "      let downloaded = 0;\n",
              "\n",
              "      const channel = await google.colab.kernel.comms.open(id);\n",
              "      // Send a message to notify the kernel that we're ready.\n",
              "      channel.send({})\n",
              "\n",
              "      for await (const message of channel.messages) {\n",
              "        // Send a message to notify the kernel that we're ready.\n",
              "        channel.send({})\n",
              "        if (message.buffers) {\n",
              "          for (const buffer of message.buffers) {\n",
              "            buffers.push(buffer);\n",
              "            downloaded += buffer.byteLength;\n",
              "            progress.value = downloaded;\n",
              "          }\n",
              "        }\n",
              "      }\n",
              "      const blob = new Blob(buffers, {type: 'application/binary'});\n",
              "      const a = document.createElement('a');\n",
              "      a.href = window.URL.createObjectURL(blob);\n",
              "      a.download = filename;\n",
              "      div.appendChild(a);\n",
              "      a.click();\n",
              "      div.remove();\n",
              "    }\n",
              "  "
            ]
          },
          "metadata": {}
        },
        {
          "output_type": "display_data",
          "data": {
            "text/plain": [
              "<IPython.core.display.Javascript object>"
            ],
            "application/javascript": [
              "download(\"download_e00c936e-5889-412f-9090-2037996c6019\", \"Natalia_DelRio_Assignment2_R11859714.csv\", 5129)"
            ]
          },
          "metadata": {}
        }
      ],
      "source": [
        "best_models = {\n",
        "    'SVM': best_svm,\n",
        "    'Decision Tree': best_dt\n",
        "}\n",
        "\n",
        "for name, model in best_models.items():\n",
        "    print(f\"\\n{name} Performance:\")\n",
        "    y_pred = model.predict(X_val)\n",
        "\n",
        "    print(f\"Accuracy: {accuracy_score(y_val, y_pred):.4f}\")\n",
        "    print(f\"Precision (macro): {precision_score(y_val, y_pred, average='macro'):.4f}\")\n",
        "    print(f\"Recall (macro): {recall_score(y_val, y_pred, average='macro'):.4f}\")\n",
        "    print(f\"F1-score (macro): {f1_score(y_val, y_pred, average='macro'):.4f}\")\n",
        "    print(f\"F1-score (weighted): {f1_score(y_val, y_pred, average='weighted'):.4f}\")\n",
        "\n",
        "    if hasattr(model, 'predict_proba'):\n",
        "        y_prob = model.predict_proba(X_val)[:, 1]\n",
        "        print(f\"ROC-AUC: {roc_auc_score(y_val, y_prob):.4f}\")\n",
        "\n",
        "    print(\"Confusion Matrix:\")\n",
        "    print(confusion_matrix(y_val, y_pred))\n",
        "\n",
        "comparison_data = []\n",
        "for name, model in best_models.items():\n",
        "    y_pred = model.predict(X_val)\n",
        "\n",
        "    comparison_data.append({\n",
        "        'Model': name,\n",
        "        'Accuracy': accuracy_score(y_val, y_pred),\n",
        "        'Precision': precision_score(y_val, y_pred, average='weighted'),\n",
        "        'Recall': recall_score(y_val, y_pred, average='weighted'),\n",
        "        'F1-Score': f1_score(y_val, y_pred, average='weighted')\n",
        "    })\n",
        "\n",
        "comparison_df = pd.DataFrame(comparison_data)\n",
        "print(f\"\\nModel Comparison:\")\n",
        "print(comparison_df.round(4))\n",
        "\n",
        "best_model_name = comparison_df.loc[comparison_df['Accuracy'].idxmax(), 'Model']\n",
        "print(f\"Best performing model: {best_model_name}\")\n",
        "\n",
        "if 'Decision Tree' in best_models:\n",
        "    dt_model = best_models['Decision Tree']\n",
        "    if hasattr(dt_model.named_steps['classifier'], 'feature_importances_'):\n",
        "        print(f\"\\nDecision Tree Feature Importance (Top 10):\")\n",
        "        feature_names = dt_model.named_steps['vectorizer'].get_feature_names_out()\n",
        "        importances = dt_model.named_steps['classifier'].feature_importances_\n",
        "\n",
        "        top_indices = importances.argsort()[-10:][::-1]\n",
        "        for i, idx in enumerate(top_indices, 1):\n",
        "            print(f\"{i:2d}. {feature_names[idx]:<15}: {importances[idx]:.4f}\")\n",
        "\n",
        "best_model = best_models[best_model_name]\n",
        "y_pred = best_model.predict(X_val)\n",
        "\n",
        "misclassified_mask = y_val != y_pred\n",
        "print(f\"\\nError Analysis:\")\n",
        "print(f\"Total misclassified: {sum(misclassified_mask)}\")\n",
        "print(f\"Error rate: {sum(misclassified_mask) / len(y_val):.4f}\")\n",
        "\n",
        "try:\n",
        "    df_test = pd.read_csv('Final_test_data.csv')\n",
        "    df_test['clean_text'] = df_test['essay'].apply(text_process)\n",
        "    test_predictions = best_model.predict(df_test['clean_text'])\n",
        "\n",
        "    results_df = pd.DataFrame({\n",
        "        'essay_id': range(len(df_test)),\n",
        "        'predicted_label': test_predictions\n",
        "    })\n",
        "\n",
        "    results_df.to_csv('Natalia_DelRio_Assignment2_R11859714.csv', index=False)\n",
        "\n",
        "    from google.colab import files\n",
        "    files.download('Natalia_DelRio_Assignment2_R11859714.csv')\n",
        "\n",
        "except Exception as e:\n",
        "    print(f\"Error: {e}\")"
      ]
    },
    {
      "cell_type": "code",
      "metadata": {
        "colab": {
          "base_uri": "https://localhost:8080/"
        },
        "id": "bc2b03f8",
        "outputId": "a3571659-c5e2-4407-a469-a567fe05c9a9"
      },
      "source": [
        "# Save the best performing model to a pickle file\n",
        "joblib.dump(best_model, 'best_model.pkl')\n",
        "\n",
        "print(\"Best model saved to best_model.pkl\")"
      ],
      "execution_count": 22,
      "outputs": [
        {
          "output_type": "stream",
          "name": "stdout",
          "text": [
            "Best model saved to best_model.pkl\n"
          ]
        }
      ]
    },
    {
      "cell_type": "code",
      "metadata": {
        "colab": {
          "base_uri": "https://localhost:8080/"
        },
        "id": "3a737761",
        "outputId": "605402bb-59e3-416d-b6d9-af1db742a078"
      },
      "source": [
        "# Save the trained Decision Tree classifier to a pickle file\n",
        "joblib.dump(best_dt, 'decision_tree_model.pkl')\n",
        "\n",
        "print(\"Decision Tree model saved to decision_tree_model.pkl\")"
      ],
      "execution_count": 23,
      "outputs": [
        {
          "output_type": "stream",
          "name": "stdout",
          "text": [
            "Decision Tree model saved to decision_tree_model.pkl\n"
          ]
        }
      ]
    },
    {
      "cell_type": "code",
      "metadata": {
        "colab": {
          "base_uri": "https://localhost:8080/"
        },
        "id": "0c5c2c91",
        "outputId": "8e931f83-172a-42dd-8ff5-7b76b46f2923"
      },
      "source": [
        "# Save the trained SVM classifier to a pickle file\n",
        "joblib.dump(best_svm, 'svm_model.pkl')\n",
        "\n",
        "print(\"SVM model saved to svm_model.pkl\")"
      ],
      "execution_count": 24,
      "outputs": [
        {
          "output_type": "stream",
          "name": "stdout",
          "text": [
            "SVM model saved to svm_model.pkl\n"
          ]
        }
      ]
    },
    {
      "cell_type": "code",
      "metadata": {
        "id": "b3f136e6"
      },
      "source": [
        "from sklearn.ensemble import AdaBoostClassifier\n",
        "\n",
        "adaboost_pipeline = Pipeline([\n",
        "    ('vectorizer', TfidfVectorizer(lowercase=False, max_features=1000, ngram_range=(1,2))),\n",
        "    ('classifier', AdaBoostClassifier(random_state=42))\n",
        "])"
      ],
      "execution_count": 25,
      "outputs": []
    },
    {
      "cell_type": "code",
      "metadata": {
        "colab": {
          "base_uri": "https://localhost:8080/",
          "height": 159
        },
        "id": "8e065a6a",
        "outputId": "1b9dd03d-67ab-4999-839c-9e91ea8057dd"
      },
      "source": [
        "adaboost_pipeline.fit(X_train, y_train)"
      ],
      "execution_count": 26,
      "outputs": [
        {
          "output_type": "execute_result",
          "data": {
            "text/plain": [
              "Pipeline(steps=[('vectorizer',\n",
              "                 TfidfVectorizer(lowercase=False, max_features=1000,\n",
              "                                 ngram_range=(1, 2))),\n",
              "                ('classifier', AdaBoostClassifier(random_state=42))])"
            ],
            "text/html": [
              "<style>#sk-container-id-1 {\n",
              "  /* Definition of color scheme common for light and dark mode */\n",
              "  --sklearn-color-text: #000;\n",
              "  --sklearn-color-text-muted: #666;\n",
              "  --sklearn-color-line: gray;\n",
              "  /* Definition of color scheme for unfitted estimators */\n",
              "  --sklearn-color-unfitted-level-0: #fff5e6;\n",
              "  --sklearn-color-unfitted-level-1: #f6e4d2;\n",
              "  --sklearn-color-unfitted-level-2: #ffe0b3;\n",
              "  --sklearn-color-unfitted-level-3: chocolate;\n",
              "  /* Definition of color scheme for fitted estimators */\n",
              "  --sklearn-color-fitted-level-0: #f0f8ff;\n",
              "  --sklearn-color-fitted-level-1: #d4ebff;\n",
              "  --sklearn-color-fitted-level-2: #b3dbfd;\n",
              "  --sklearn-color-fitted-level-3: cornflowerblue;\n",
              "\n",
              "  /* Specific color for light theme */\n",
              "  --sklearn-color-text-on-default-background: var(--sg-text-color, var(--theme-code-foreground, var(--jp-content-font-color1, black)));\n",
              "  --sklearn-color-background: var(--sg-background-color, var(--theme-background, var(--jp-layout-color0, white)));\n",
              "  --sklearn-color-border-box: var(--sg-text-color, var(--theme-code-foreground, var(--jp-content-font-color1, black)));\n",
              "  --sklearn-color-icon: #696969;\n",
              "\n",
              "  @media (prefers-color-scheme: dark) {\n",
              "    /* Redefinition of color scheme for dark theme */\n",
              "    --sklearn-color-text-on-default-background: var(--sg-text-color, var(--theme-code-foreground, var(--jp-content-font-color1, white)));\n",
              "    --sklearn-color-background: var(--sg-background-color, var(--theme-background, var(--jp-layout-color0, #111)));\n",
              "    --sklearn-color-border-box: var(--sg-text-color, var(--theme-code-foreground, var(--jp-content-font-color1, white)));\n",
              "    --sklearn-color-icon: #878787;\n",
              "  }\n",
              "}\n",
              "\n",
              "#sk-container-id-1 {\n",
              "  color: var(--sklearn-color-text);\n",
              "}\n",
              "\n",
              "#sk-container-id-1 pre {\n",
              "  padding: 0;\n",
              "}\n",
              "\n",
              "#sk-container-id-1 input.sk-hidden--visually {\n",
              "  border: 0;\n",
              "  clip: rect(1px 1px 1px 1px);\n",
              "  clip: rect(1px, 1px, 1px, 1px);\n",
              "  height: 1px;\n",
              "  margin: -1px;\n",
              "  overflow: hidden;\n",
              "  padding: 0;\n",
              "  position: absolute;\n",
              "  width: 1px;\n",
              "}\n",
              "\n",
              "#sk-container-id-1 div.sk-dashed-wrapped {\n",
              "  border: 1px dashed var(--sklearn-color-line);\n",
              "  margin: 0 0.4em 0.5em 0.4em;\n",
              "  box-sizing: border-box;\n",
              "  padding-bottom: 0.4em;\n",
              "  background-color: var(--sklearn-color-background);\n",
              "}\n",
              "\n",
              "#sk-container-id-1 div.sk-container {\n",
              "  /* jupyter's `normalize.less` sets `[hidden] { display: none; }`\n",
              "     but bootstrap.min.css set `[hidden] { display: none !important; }`\n",
              "     so we also need the `!important` here to be able to override the\n",
              "     default hidden behavior on the sphinx rendered scikit-learn.org.\n",
              "     See: https://github.com/scikit-learn/scikit-learn/issues/21755 */\n",
              "  display: inline-block !important;\n",
              "  position: relative;\n",
              "}\n",
              "\n",
              "#sk-container-id-1 div.sk-text-repr-fallback {\n",
              "  display: none;\n",
              "}\n",
              "\n",
              "div.sk-parallel-item,\n",
              "div.sk-serial,\n",
              "div.sk-item {\n",
              "  /* draw centered vertical line to link estimators */\n",
              "  background-image: linear-gradient(var(--sklearn-color-text-on-default-background), var(--sklearn-color-text-on-default-background));\n",
              "  background-size: 2px 100%;\n",
              "  background-repeat: no-repeat;\n",
              "  background-position: center center;\n",
              "}\n",
              "\n",
              "/* Parallel-specific style estimator block */\n",
              "\n",
              "#sk-container-id-1 div.sk-parallel-item::after {\n",
              "  content: \"\";\n",
              "  width: 100%;\n",
              "  border-bottom: 2px solid var(--sklearn-color-text-on-default-background);\n",
              "  flex-grow: 1;\n",
              "}\n",
              "\n",
              "#sk-container-id-1 div.sk-parallel {\n",
              "  display: flex;\n",
              "  align-items: stretch;\n",
              "  justify-content: center;\n",
              "  background-color: var(--sklearn-color-background);\n",
              "  position: relative;\n",
              "}\n",
              "\n",
              "#sk-container-id-1 div.sk-parallel-item {\n",
              "  display: flex;\n",
              "  flex-direction: column;\n",
              "}\n",
              "\n",
              "#sk-container-id-1 div.sk-parallel-item:first-child::after {\n",
              "  align-self: flex-end;\n",
              "  width: 50%;\n",
              "}\n",
              "\n",
              "#sk-container-id-1 div.sk-parallel-item:last-child::after {\n",
              "  align-self: flex-start;\n",
              "  width: 50%;\n",
              "}\n",
              "\n",
              "#sk-container-id-1 div.sk-parallel-item:only-child::after {\n",
              "  width: 0;\n",
              "}\n",
              "\n",
              "/* Serial-specific style estimator block */\n",
              "\n",
              "#sk-container-id-1 div.sk-serial {\n",
              "  display: flex;\n",
              "  flex-direction: column;\n",
              "  align-items: center;\n",
              "  background-color: var(--sklearn-color-background);\n",
              "  padding-right: 1em;\n",
              "  padding-left: 1em;\n",
              "}\n",
              "\n",
              "\n",
              "/* Toggleable style: style used for estimator/Pipeline/ColumnTransformer box that is\n",
              "clickable and can be expanded/collapsed.\n",
              "- Pipeline and ColumnTransformer use this feature and define the default style\n",
              "- Estimators will overwrite some part of the style using the `sk-estimator` class\n",
              "*/\n",
              "\n",
              "/* Pipeline and ColumnTransformer style (default) */\n",
              "\n",
              "#sk-container-id-1 div.sk-toggleable {\n",
              "  /* Default theme specific background. It is overwritten whether we have a\n",
              "  specific estimator or a Pipeline/ColumnTransformer */\n",
              "  background-color: var(--sklearn-color-background);\n",
              "}\n",
              "\n",
              "/* Toggleable label */\n",
              "#sk-container-id-1 label.sk-toggleable__label {\n",
              "  cursor: pointer;\n",
              "  display: flex;\n",
              "  width: 100%;\n",
              "  margin-bottom: 0;\n",
              "  padding: 0.5em;\n",
              "  box-sizing: border-box;\n",
              "  text-align: center;\n",
              "  align-items: start;\n",
              "  justify-content: space-between;\n",
              "  gap: 0.5em;\n",
              "}\n",
              "\n",
              "#sk-container-id-1 label.sk-toggleable__label .caption {\n",
              "  font-size: 0.6rem;\n",
              "  font-weight: lighter;\n",
              "  color: var(--sklearn-color-text-muted);\n",
              "}\n",
              "\n",
              "#sk-container-id-1 label.sk-toggleable__label-arrow:before {\n",
              "  /* Arrow on the left of the label */\n",
              "  content: \"▸\";\n",
              "  float: left;\n",
              "  margin-right: 0.25em;\n",
              "  color: var(--sklearn-color-icon);\n",
              "}\n",
              "\n",
              "#sk-container-id-1 label.sk-toggleable__label-arrow:hover:before {\n",
              "  color: var(--sklearn-color-text);\n",
              "}\n",
              "\n",
              "/* Toggleable content - dropdown */\n",
              "\n",
              "#sk-container-id-1 div.sk-toggleable__content {\n",
              "  max-height: 0;\n",
              "  max-width: 0;\n",
              "  overflow: hidden;\n",
              "  text-align: left;\n",
              "  /* unfitted */\n",
              "  background-color: var(--sklearn-color-unfitted-level-0);\n",
              "}\n",
              "\n",
              "#sk-container-id-1 div.sk-toggleable__content.fitted {\n",
              "  /* fitted */\n",
              "  background-color: var(--sklearn-color-fitted-level-0);\n",
              "}\n",
              "\n",
              "#sk-container-id-1 div.sk-toggleable__content pre {\n",
              "  margin: 0.2em;\n",
              "  border-radius: 0.25em;\n",
              "  color: var(--sklearn-color-text);\n",
              "  /* unfitted */\n",
              "  background-color: var(--sklearn-color-unfitted-level-0);\n",
              "}\n",
              "\n",
              "#sk-container-id-1 div.sk-toggleable__content.fitted pre {\n",
              "  /* unfitted */\n",
              "  background-color: var(--sklearn-color-fitted-level-0);\n",
              "}\n",
              "\n",
              "#sk-container-id-1 input.sk-toggleable__control:checked~div.sk-toggleable__content {\n",
              "  /* Expand drop-down */\n",
              "  max-height: 200px;\n",
              "  max-width: 100%;\n",
              "  overflow: auto;\n",
              "}\n",
              "\n",
              "#sk-container-id-1 input.sk-toggleable__control:checked~label.sk-toggleable__label-arrow:before {\n",
              "  content: \"▾\";\n",
              "}\n",
              "\n",
              "/* Pipeline/ColumnTransformer-specific style */\n",
              "\n",
              "#sk-container-id-1 div.sk-label input.sk-toggleable__control:checked~label.sk-toggleable__label {\n",
              "  color: var(--sklearn-color-text);\n",
              "  background-color: var(--sklearn-color-unfitted-level-2);\n",
              "}\n",
              "\n",
              "#sk-container-id-1 div.sk-label.fitted input.sk-toggleable__control:checked~label.sk-toggleable__label {\n",
              "  background-color: var(--sklearn-color-fitted-level-2);\n",
              "}\n",
              "\n",
              "/* Estimator-specific style */\n",
              "\n",
              "/* Colorize estimator box */\n",
              "#sk-container-id-1 div.sk-estimator input.sk-toggleable__control:checked~label.sk-toggleable__label {\n",
              "  /* unfitted */\n",
              "  background-color: var(--sklearn-color-unfitted-level-2);\n",
              "}\n",
              "\n",
              "#sk-container-id-1 div.sk-estimator.fitted input.sk-toggleable__control:checked~label.sk-toggleable__label {\n",
              "  /* fitted */\n",
              "  background-color: var(--sklearn-color-fitted-level-2);\n",
              "}\n",
              "\n",
              "#sk-container-id-1 div.sk-label label.sk-toggleable__label,\n",
              "#sk-container-id-1 div.sk-label label {\n",
              "  /* The background is the default theme color */\n",
              "  color: var(--sklearn-color-text-on-default-background);\n",
              "}\n",
              "\n",
              "/* On hover, darken the color of the background */\n",
              "#sk-container-id-1 div.sk-label:hover label.sk-toggleable__label {\n",
              "  color: var(--sklearn-color-text);\n",
              "  background-color: var(--sklearn-color-unfitted-level-2);\n",
              "}\n",
              "\n",
              "/* Label box, darken color on hover, fitted */\n",
              "#sk-container-id-1 div.sk-label.fitted:hover label.sk-toggleable__label.fitted {\n",
              "  color: var(--sklearn-color-text);\n",
              "  background-color: var(--sklearn-color-fitted-level-2);\n",
              "}\n",
              "\n",
              "/* Estimator label */\n",
              "\n",
              "#sk-container-id-1 div.sk-label label {\n",
              "  font-family: monospace;\n",
              "  font-weight: bold;\n",
              "  display: inline-block;\n",
              "  line-height: 1.2em;\n",
              "}\n",
              "\n",
              "#sk-container-id-1 div.sk-label-container {\n",
              "  text-align: center;\n",
              "}\n",
              "\n",
              "/* Estimator-specific */\n",
              "#sk-container-id-1 div.sk-estimator {\n",
              "  font-family: monospace;\n",
              "  border: 1px dotted var(--sklearn-color-border-box);\n",
              "  border-radius: 0.25em;\n",
              "  box-sizing: border-box;\n",
              "  margin-bottom: 0.5em;\n",
              "  /* unfitted */\n",
              "  background-color: var(--sklearn-color-unfitted-level-0);\n",
              "}\n",
              "\n",
              "#sk-container-id-1 div.sk-estimator.fitted {\n",
              "  /* fitted */\n",
              "  background-color: var(--sklearn-color-fitted-level-0);\n",
              "}\n",
              "\n",
              "/* on hover */\n",
              "#sk-container-id-1 div.sk-estimator:hover {\n",
              "  /* unfitted */\n",
              "  background-color: var(--sklearn-color-unfitted-level-2);\n",
              "}\n",
              "\n",
              "#sk-container-id-1 div.sk-estimator.fitted:hover {\n",
              "  /* fitted */\n",
              "  background-color: var(--sklearn-color-fitted-level-2);\n",
              "}\n",
              "\n",
              "/* Specification for estimator info (e.g. \"i\" and \"?\") */\n",
              "\n",
              "/* Common style for \"i\" and \"?\" */\n",
              "\n",
              ".sk-estimator-doc-link,\n",
              "a:link.sk-estimator-doc-link,\n",
              "a:visited.sk-estimator-doc-link {\n",
              "  float: right;\n",
              "  font-size: smaller;\n",
              "  line-height: 1em;\n",
              "  font-family: monospace;\n",
              "  background-color: var(--sklearn-color-background);\n",
              "  border-radius: 1em;\n",
              "  height: 1em;\n",
              "  width: 1em;\n",
              "  text-decoration: none !important;\n",
              "  margin-left: 0.5em;\n",
              "  text-align: center;\n",
              "  /* unfitted */\n",
              "  border: var(--sklearn-color-unfitted-level-1) 1pt solid;\n",
              "  color: var(--sklearn-color-unfitted-level-1);\n",
              "}\n",
              "\n",
              ".sk-estimator-doc-link.fitted,\n",
              "a:link.sk-estimator-doc-link.fitted,\n",
              "a:visited.sk-estimator-doc-link.fitted {\n",
              "  /* fitted */\n",
              "  border: var(--sklearn-color-fitted-level-1) 1pt solid;\n",
              "  color: var(--sklearn-color-fitted-level-1);\n",
              "}\n",
              "\n",
              "/* On hover */\n",
              "div.sk-estimator:hover .sk-estimator-doc-link:hover,\n",
              ".sk-estimator-doc-link:hover,\n",
              "div.sk-label-container:hover .sk-estimator-doc-link:hover,\n",
              ".sk-estimator-doc-link:hover {\n",
              "  /* unfitted */\n",
              "  background-color: var(--sklearn-color-unfitted-level-3);\n",
              "  color: var(--sklearn-color-background);\n",
              "  text-decoration: none;\n",
              "}\n",
              "\n",
              "div.sk-estimator.fitted:hover .sk-estimator-doc-link.fitted:hover,\n",
              ".sk-estimator-doc-link.fitted:hover,\n",
              "div.sk-label-container:hover .sk-estimator-doc-link.fitted:hover,\n",
              ".sk-estimator-doc-link.fitted:hover {\n",
              "  /* fitted */\n",
              "  background-color: var(--sklearn-color-fitted-level-3);\n",
              "  color: var(--sklearn-color-background);\n",
              "  text-decoration: none;\n",
              "}\n",
              "\n",
              "/* Span, style for the box shown on hovering the info icon */\n",
              ".sk-estimator-doc-link span {\n",
              "  display: none;\n",
              "  z-index: 9999;\n",
              "  position: relative;\n",
              "  font-weight: normal;\n",
              "  right: .2ex;\n",
              "  padding: .5ex;\n",
              "  margin: .5ex;\n",
              "  width: min-content;\n",
              "  min-width: 20ex;\n",
              "  max-width: 50ex;\n",
              "  color: var(--sklearn-color-text);\n",
              "  box-shadow: 2pt 2pt 4pt #999;\n",
              "  /* unfitted */\n",
              "  background: var(--sklearn-color-unfitted-level-0);\n",
              "  border: .5pt solid var(--sklearn-color-unfitted-level-3);\n",
              "}\n",
              "\n",
              ".sk-estimator-doc-link.fitted span {\n",
              "  /* fitted */\n",
              "  background: var(--sklearn-color-fitted-level-0);\n",
              "  border: var(--sklearn-color-fitted-level-3);\n",
              "}\n",
              "\n",
              ".sk-estimator-doc-link:hover span {\n",
              "  display: block;\n",
              "}\n",
              "\n",
              "/* \"?\"-specific style due to the `<a>` HTML tag */\n",
              "\n",
              "#sk-container-id-1 a.estimator_doc_link {\n",
              "  float: right;\n",
              "  font-size: 1rem;\n",
              "  line-height: 1em;\n",
              "  font-family: monospace;\n",
              "  background-color: var(--sklearn-color-background);\n",
              "  border-radius: 1rem;\n",
              "  height: 1rem;\n",
              "  width: 1rem;\n",
              "  text-decoration: none;\n",
              "  /* unfitted */\n",
              "  color: var(--sklearn-color-unfitted-level-1);\n",
              "  border: var(--sklearn-color-unfitted-level-1) 1pt solid;\n",
              "}\n",
              "\n",
              "#sk-container-id-1 a.estimator_doc_link.fitted {\n",
              "  /* fitted */\n",
              "  border: var(--sklearn-color-fitted-level-1) 1pt solid;\n",
              "  color: var(--sklearn-color-fitted-level-1);\n",
              "}\n",
              "\n",
              "/* On hover */\n",
              "#sk-container-id-1 a.estimator_doc_link:hover {\n",
              "  /* unfitted */\n",
              "  background-color: var(--sklearn-color-unfitted-level-3);\n",
              "  color: var(--sklearn-color-background);\n",
              "  text-decoration: none;\n",
              "}\n",
              "\n",
              "#sk-container-id-1 a.estimator_doc_link.fitted:hover {\n",
              "  /* fitted */\n",
              "  background-color: var(--sklearn-color-fitted-level-3);\n",
              "}\n",
              "</style><div id=\"sk-container-id-1\" class=\"sk-top-container\"><div class=\"sk-text-repr-fallback\"><pre>Pipeline(steps=[(&#x27;vectorizer&#x27;,\n",
              "                 TfidfVectorizer(lowercase=False, max_features=1000,\n",
              "                                 ngram_range=(1, 2))),\n",
              "                (&#x27;classifier&#x27;, AdaBoostClassifier(random_state=42))])</pre><b>In a Jupyter environment, please rerun this cell to show the HTML representation or trust the notebook. <br />On GitHub, the HTML representation is unable to render, please try loading this page with nbviewer.org.</b></div><div class=\"sk-container\" hidden><div class=\"sk-item sk-dashed-wrapped\"><div class=\"sk-label-container\"><div class=\"sk-label fitted sk-toggleable\"><input class=\"sk-toggleable__control sk-hidden--visually\" id=\"sk-estimator-id-1\" type=\"checkbox\" ><label for=\"sk-estimator-id-1\" class=\"sk-toggleable__label fitted sk-toggleable__label-arrow\"><div><div>Pipeline</div></div><div><a class=\"sk-estimator-doc-link fitted\" rel=\"noreferrer\" target=\"_blank\" href=\"https://scikit-learn.org/1.6/modules/generated/sklearn.pipeline.Pipeline.html\">?<span>Documentation for Pipeline</span></a><span class=\"sk-estimator-doc-link fitted\">i<span>Fitted</span></span></div></label><div class=\"sk-toggleable__content fitted\"><pre>Pipeline(steps=[(&#x27;vectorizer&#x27;,\n",
              "                 TfidfVectorizer(lowercase=False, max_features=1000,\n",
              "                                 ngram_range=(1, 2))),\n",
              "                (&#x27;classifier&#x27;, AdaBoostClassifier(random_state=42))])</pre></div> </div></div><div class=\"sk-serial\"><div class=\"sk-item\"><div class=\"sk-estimator fitted sk-toggleable\"><input class=\"sk-toggleable__control sk-hidden--visually\" id=\"sk-estimator-id-2\" type=\"checkbox\" ><label for=\"sk-estimator-id-2\" class=\"sk-toggleable__label fitted sk-toggleable__label-arrow\"><div><div>TfidfVectorizer</div></div><div><a class=\"sk-estimator-doc-link fitted\" rel=\"noreferrer\" target=\"_blank\" href=\"https://scikit-learn.org/1.6/modules/generated/sklearn.feature_extraction.text.TfidfVectorizer.html\">?<span>Documentation for TfidfVectorizer</span></a></div></label><div class=\"sk-toggleable__content fitted\"><pre>TfidfVectorizer(lowercase=False, max_features=1000, ngram_range=(1, 2))</pre></div> </div></div><div class=\"sk-item\"><div class=\"sk-estimator fitted sk-toggleable\"><input class=\"sk-toggleable__control sk-hidden--visually\" id=\"sk-estimator-id-3\" type=\"checkbox\" ><label for=\"sk-estimator-id-3\" class=\"sk-toggleable__label fitted sk-toggleable__label-arrow\"><div><div>AdaBoostClassifier</div></div><div><a class=\"sk-estimator-doc-link fitted\" rel=\"noreferrer\" target=\"_blank\" href=\"https://scikit-learn.org/1.6/modules/generated/sklearn.ensemble.AdaBoostClassifier.html\">?<span>Documentation for AdaBoostClassifier</span></a></div></label><div class=\"sk-toggleable__content fitted\"><pre>AdaBoostClassifier(random_state=42)</pre></div> </div></div></div></div></div></div>"
            ]
          },
          "metadata": {},
          "execution_count": 26
        }
      ]
    },
    {
      "cell_type": "code",
      "metadata": {
        "colab": {
          "base_uri": "https://localhost:8080/"
        },
        "id": "0c3db516",
        "outputId": "3188c1b8-c761-4c0a-ec70-c4edffcac2f0"
      },
      "source": [
        "y_pred_adaboost = adaboost_pipeline.predict(X_val)\n",
        "accuracy_adaboost = accuracy_score(y_val, y_pred_adaboost)\n",
        "print(f\"AdaBoost Validation accuracy: {accuracy_adaboost:.4f}\")"
      ],
      "execution_count": 27,
      "outputs": [
        {
          "output_type": "stream",
          "name": "stdout",
          "text": [
            "AdaBoost Validation accuracy: 0.9437\n"
          ]
        }
      ]
    },
    {
      "cell_type": "code",
      "metadata": {
        "colab": {
          "base_uri": "https://localhost:8080/"
        },
        "id": "7ea0e4a0",
        "outputId": "679fd302-01ac-4d0e-bd49-002f6dc61e9b"
      },
      "source": [
        "joblib.dump(adaboost_pipeline, 'adaboost_model.pkl')\n",
        "print(\"AdaBoost model saved to adaboost_model.pkl\")"
      ],
      "execution_count": 28,
      "outputs": [
        {
          "output_type": "stream",
          "name": "stdout",
          "text": [
            "AdaBoost model saved to adaboost_model.pkl\n"
          ]
        }
      ]
    },
    {
      "cell_type": "code",
      "metadata": {
        "colab": {
          "base_uri": "https://localhost:8080/"
        },
        "id": "d62721f2",
        "outputId": "15b8ffff-4b67-467f-8a92-176f3963efab"
      },
      "source": [
        "joblib.dump(adaboost_pipeline, 'adaboost_model.pkl')\n",
        "print(\"AdaBoost model saved to adaboost_model.pkl\")"
      ],
      "execution_count": 29,
      "outputs": [
        {
          "output_type": "stream",
          "name": "stdout",
          "text": [
            "AdaBoost model saved to adaboost_model.pkl\n"
          ]
        }
      ]
    },
    {
      "cell_type": "code",
      "metadata": {
        "colab": {
          "base_uri": "https://localhost:8080/"
        },
        "id": "89e78069",
        "outputId": "f3e801c7-89a8-47c2-9f9c-09e3232df346"
      },
      "source": [
        "# Extract and save the TfidfVectorizer from the best SVM pipeline\n",
        "tfidf_vectorizer = best_svm.named_steps['vectorizer']\n",
        "joblib.dump(tfidf_vectorizer, 'tfidf_vectorizer.pkl')\n",
        "\n",
        "print(\"TF-IDF vectorizer saved to tfidf_vectorizer.pkl\")"
      ],
      "execution_count": 30,
      "outputs": [
        {
          "output_type": "stream",
          "name": "stdout",
          "text": [
            "TF-IDF vectorizer saved to tfidf_vectorizer.pkl\n"
          ]
        }
      ]
    },
    {
      "cell_type": "code",
      "metadata": {
        "colab": {
          "base_uri": "https://localhost:8080/"
        },
        "id": "7e4f4a7d",
        "outputId": "a62bbf10-1fbb-4575-90ba-78d332aeb007"
      },
      "source": [
        "import os\n",
        "import joblib\n",
        "\n",
        "# Create the 'models' directory if it doesn't exist\n",
        "if not os.path.exists('models'):\n",
        "    os.makedirs('models')\n",
        "    print(\"Created 'models' directory\")\n",
        "else:\n",
        "    print(\"'models' directory already exists\")\n",
        "\n",
        "# Save the trained SVM model\n",
        "joblib.dump(best_svm, 'models/svm_model.pkl')\n",
        "print(\"SVM model saved as 'models/svm_model.pkl'\")\n",
        "\n",
        "# Save the trained Decision Tree model\n",
        "joblib.dump(best_dt, 'models/decision_tree_model.pkl')\n",
        "print(\"Decision Tree model saved as 'models/decision_tree_model.pkl'\")\n",
        "\n",
        "# Save the trained AdaBoost model\n",
        "joblib.dump(adaboost_pipeline, 'models/adaboost_model.pkl')\n",
        "print(\"AdaBoost model saved as 'models/adaboost_model.pkl'\")\n",
        "\n",
        "# Save the TF-IDF vectorizer\n",
        "joblib.dump(tfidf_vectorizer, 'models/tfidf_vectorizer.pkl')\n",
        "print(\"TF-IDF vectorizer saved as 'models/tfidf_vectorizer.pkl'\")"
      ],
      "execution_count": 31,
      "outputs": [
        {
          "output_type": "stream",
          "name": "stdout",
          "text": [
            "Created 'models' directory\n",
            "SVM model saved as 'models/svm_model.pkl'\n",
            "Decision Tree model saved as 'models/decision_tree_model.pkl'\n",
            "AdaBoost model saved as 'models/adaboost_model.pkl'\n",
            "TF-IDF vectorizer saved as 'models/tfidf_vectorizer.pkl'\n"
          ]
        }
      ]
    }
  ],
  "metadata": {
    "colab": {
      "provenance": []
    },
    "kernelspec": {
      "display_name": "Python 3",
      "name": "python3"
    },
    "language_info": {
      "name": "python"
    }
  },
  "nbformat": 4,
  "nbformat_minor": 0
}